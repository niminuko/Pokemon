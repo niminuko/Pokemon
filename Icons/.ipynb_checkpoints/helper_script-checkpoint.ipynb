{
 "cells": [
  {
   "cell_type": "markdown",
   "metadata": {},
   "source": [
    "# Helper Script\n",
    "\n",
    "This is a helper script for the `Icons` folder. Do not run this Notebook unless the artwork is not present within the specified folder already."
   ]
  },
  {
   "cell_type": "code",
   "execution_count": 5,
   "metadata": {},
   "outputs": [
    {
     "name": "stderr",
     "output_type": "stream",
     "text": [
      "100%|██████████| 1029/1029 [01:35<00:00, 10.77it/s]\n"
     ]
    }
   ],
   "source": [
    "import shutil\n",
    "import requests\n",
    "import pandas as pd\n",
    "from tqdm import tqdm\n",
    "\n",
    "df = pd.read_csv('pokedex.csv')\n",
    "\n",
    "unique_artwork = df['Icon']\n",
    "names = df['Name']\n",
    "\n",
    "for idx in tqdm(range(len(unique_artwork))):\n",
    "    try:\n",
    "        response = requests.get(unique_artwork[idx], stream=True)\n",
    "        with open(f'{names[idx]}.png', 'wb') as out_file:\n",
    "            shutil.copyfileobj(response.raw, out_file)\n",
    "        del response\n",
    "    except:\n",
    "        continue"
   ]
  }
 ],
 "metadata": {
  "kernelspec": {
   "display_name": "Python 3",
   "language": "python",
   "name": "python3"
  },
  "language_info": {
   "codemirror_mode": {
    "name": "ipython",
    "version": 3
   },
   "file_extension": ".py",
   "mimetype": "text/x-python",
   "name": "python",
   "nbconvert_exporter": "python",
   "pygments_lexer": "ipython3",
   "version": "3.7.7"
  }
 },
 "nbformat": 4,
 "nbformat_minor": 4
}
