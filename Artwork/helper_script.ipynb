{
 "cells": [
  {
   "cell_type": "markdown",
   "metadata": {},
   "source": [
    "# Helper Script\n",
    "\n",
    "This is a helper script for the `Artwork` folder. Do not run this Notebook unless the artwork is not present within the specified folder already."
   ]
  },
  {
   "cell_type": "code",
   "execution_count": 1,
   "metadata": {},
   "outputs": [
    {
     "name": "stderr",
     "output_type": "stream",
     "text": [
      "100%|██████████| 890/890 [03:33<00:00,  4.18it/s]\n"
     ]
    }
   ],
   "source": [
    "import shutil\n",
    "import requests\n",
    "import pandas as pd\n",
    "from tqdm import tqdm\n",
    "\n",
    "df = pd.read_csv('pokedex.csv')\n",
    "df['#'] = [str(num).zfill(3) for num in df['#']]\n",
    "poke_ids = df['#'].unique()\n",
    "\n",
    "for poke_id in tqdm(poke_ids):\n",
    "    try:\n",
    "        link = str(f'https://www.serebii.net/swordshield/pokemon/{poke_id}.png')\n",
    "        response = requests.get(link, stream=True)\n",
    "        with open(f'{poke_id}.png', 'wb') as out_file:\n",
    "            shutil.copyfileobj(response.raw, out_file)\n",
    "        del response\n",
    "    except:\n",
    "        continue"
   ]
  }
 ],
 "metadata": {
  "kernelspec": {
   "display_name": "Python 3",
   "language": "python",
   "name": "python3"
  },
  "language_info": {
   "codemirror_mode": {
    "name": "ipython",
    "version": 3
   },
   "file_extension": ".py",
   "mimetype": "text/x-python",
   "name": "python",
   "nbconvert_exporter": "python",
   "pygments_lexer": "ipython3",
   "version": "3.8.3"
  }
 },
 "nbformat": 4,
 "nbformat_minor": 4
}
